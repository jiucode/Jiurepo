{
 "cells": [
  {
   "cell_type": "code",
   "execution_count": null,
   "id": "f0e9daa2",
   "metadata": {},
   "outputs": [],
   "source": [
    "#crea una variable\n",
    "\n",
    "nombre=\"cesar\""
   ]
  }
 ],
 "metadata": {
  "language_info": {
   "name": "python"
  }
 },
 "nbformat": 4,
 "nbformat_minor": 5
}
